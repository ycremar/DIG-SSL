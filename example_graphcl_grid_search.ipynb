{
 "cells": [
  {
   "cell_type": "markdown",
   "metadata": {},
   "source": [
    "## Example of GraphCL with grid search"
   ]
  },
  {
   "cell_type": "code",
   "execution_count": 1,
   "metadata": {},
   "outputs": [],
   "source": [
    "from sslgraph.utils import Encoder, get_dataset\n",
    "from sslgraph.utils.eval_graph import EvalSemisupevised\n",
    "from sslgraph.contrastive.model import GraphCL"
   ]
  },
  {
   "cell_type": "markdown",
   "metadata": {},
   "source": [
    "### 1. Semi-supervised learning on DD\n",
    "\n",
    "#### Load dataset\n",
    "\n",
    "In this example, we evaluate model on DD dataset in the semi-supervised setting."
   ]
  },
  {
   "cell_type": "code",
   "execution_count": 2,
   "metadata": {},
   "outputs": [],
   "source": [
    "dataset, dataset_pretrain = get_dataset('DD', task='semisupervised')\n",
    "feat_dim = dataset[0].x.shape[1]\n",
    "embed_dim = 128"
   ]
  },
  {
   "cell_type": "markdown",
   "metadata": {},
   "source": [
    "#### Define your encoder and contrastive model (GraphCL)\n",
    "\n",
    "For semi-supervised setting, GraphCL uses ResGCN. \n",
    "\n",
    "Available augmentation includes: dropN, maskN, permE, subgraph, random[2-4]."
   ]
  },
  {
   "cell_type": "code",
   "execution_count": 3,
   "metadata": {},
   "outputs": [],
   "source": [
    "encoder = Encoder(feat_dim, embed_dim, n_layers=3, gnn='resgcn')\n",
    "graphcl = GraphCL(embed_dim, aug_1='subgraph', aug_2='dropN')"
   ]
  },
  {
   "cell_type": "markdown",
   "metadata": {},
   "source": [
    "#### Define evaluatior instance\n",
    "\n",
    "In this example, we use a label rate of 10%."
   ]
  },
  {
   "cell_type": "code",
   "execution_count": 4,
   "metadata": {},
   "outputs": [],
   "source": [
    "evaluator = EvalSemisupevised(dataset, dataset_pretrain, label_rate=0.1)"
   ]
  },
  {
   "cell_type": "markdown",
   "metadata": {},
   "source": [
    "#### Perform evaluation with grid search"
   ]
  },
  {
   "cell_type": "code",
   "execution_count": 5,
   "metadata": {},
   "outputs": [
    {
     "name": "stderr",
     "output_type": "stream",
     "text": [
      "Pretraining: epoch 20: 100%|██████████| 20/20 [22:00<00:00, 66.00s/it, loss=2.989573]\n",
      "Fold 1, finetuning: 100%|██████████| 100/100 [00:16<00:00,  6.15it/s, acc=0.6864, val_loss=1.5771]\n",
      "Fold 2, finetuning: 100%|██████████| 100/100 [00:15<00:00,  6.46it/s, acc=0.7373, val_loss=0.8928]\n",
      "Fold 3, finetuning: 100%|██████████| 100/100 [00:15<00:00,  6.48it/s, acc=0.6864, val_loss=1.3904]\n",
      "Fold 4, finetuning: 100%|██████████| 100/100 [00:16<00:00,  6.17it/s, acc=0.7542, val_loss=0.7953]\n",
      "Fold 5, finetuning: 100%|██████████| 100/100 [00:18<00:00,  5.37it/s, acc=0.7627, val_loss=1.0919]\n",
      "Fold 6, finetuning: 100%|██████████| 100/100 [00:16<00:00,  5.90it/s, acc=0.7373, val_loss=1.0400]\n",
      "Fold 7, finetuning: 100%|██████████| 100/100 [00:18<00:00,  5.41it/s, acc=0.8136, val_loss=0.8481]\n",
      "Fold 8, finetuning: 100%|██████████| 100/100 [00:16<00:00,  6.06it/s, acc=0.6949, val_loss=2.7432]\n",
      "Fold 9, finetuning: 100%|██████████| 100/100 [00:16<00:00,  6.15it/s, acc=0.6581, val_loss=1.5415]\n",
      "Fold 10, finetuning: 100%|██████████| 100/100 [00:21<00:00,  4.59it/s, acc=0.7350, val_loss=1.1680]\n",
      "Pretraining: epoch 40: 100%|██████████| 40/40 [11:21<00:00, 17.03s/it, loss=3.084379]\n",
      "Fold 1, finetuning: 100%|██████████| 100/100 [00:30<00:00,  3.24it/s, acc=0.6949, val_loss=0.9018]\n",
      "Fold 2, finetuning: 100%|██████████| 100/100 [00:38<00:00,  2.61it/s, acc=0.6864, val_loss=0.7641]\n",
      "Fold 3, finetuning: 100%|██████████| 100/100 [00:42<00:00,  2.33it/s, acc=0.6610, val_loss=0.9238]\n",
      "Fold 4, finetuning: 100%|██████████| 100/100 [00:49<00:00,  2.01it/s, acc=0.7458, val_loss=0.6262]\n",
      "Fold 5, finetuning: 100%|██████████| 100/100 [00:53<00:00,  1.86it/s, acc=0.6780, val_loss=0.8100]\n",
      "Fold 6, finetuning: 100%|██████████| 100/100 [01:00<00:00,  1.67it/s, acc=0.7712, val_loss=0.5615]\n",
      "Fold 7, finetuning: 100%|██████████| 100/100 [01:00<00:00,  1.65it/s, acc=0.8305, val_loss=0.5604]\n",
      "Fold 8, finetuning: 100%|██████████| 100/100 [01:05<00:00,  1.52it/s, acc=0.6441, val_loss=1.4144]\n",
      "Fold 9, finetuning: 100%|██████████| 100/100 [00:33<00:00,  3.02it/s, acc=0.7009, val_loss=0.7468]\n",
      "Fold 10, finetuning: 100%|██████████| 100/100 [00:16<00:00,  6.03it/s, acc=0.7521, val_loss=0.5867]\n",
      "Pretraining: epoch 20: 100%|██████████| 20/20 [06:10<00:00, 18.54s/it, loss=3.017355]\n",
      "Fold 1, finetuning: 100%|██████████| 100/100 [00:54<00:00,  1.84it/s, acc=0.7203, val_loss=1.2198]\n",
      "Fold 2, finetuning: 100%|██████████| 100/100 [00:53<00:00,  1.87it/s, acc=0.6017, val_loss=1.1199]\n",
      "Fold 3, finetuning: 100%|██████████| 100/100 [01:00<00:00,  1.65it/s, acc=0.6864, val_loss=1.0586]\n",
      "Fold 4, finetuning: 100%|██████████| 100/100 [01:04<00:00,  1.55it/s, acc=0.7119, val_loss=0.8204]\n",
      "Fold 5, finetuning: 100%|██████████| 100/100 [00:59<00:00,  1.68it/s, acc=0.7542, val_loss=0.8662]\n",
      "Fold 6, finetuning: 100%|██████████| 100/100 [01:13<00:00,  1.35it/s, acc=0.7458, val_loss=0.8319]\n",
      "Fold 7, finetuning: 100%|██████████| 100/100 [01:02<00:00,  1.59it/s, acc=0.8390, val_loss=0.6536]\n",
      "Fold 8, finetuning: 100%|██████████| 100/100 [00:52<00:00,  1.91it/s, acc=0.5508, val_loss=1.5416]\n",
      "Fold 9, finetuning: 100%|██████████| 100/100 [00:59<00:00,  1.69it/s, acc=0.6752, val_loss=0.9613]\n",
      "Fold 10, finetuning: 100%|██████████| 100/100 [00:55<00:00,  1.80it/s, acc=0.7692, val_loss=0.6064]\n",
      "Pretraining: epoch 40: 100%|██████████| 40/40 [07:39<00:00, 11.49s/it, loss=2.923511]\n",
      "Fold 1, finetuning: 100%|██████████| 100/100 [00:21<00:00,  4.59it/s, acc=0.6949, val_loss=0.8413]\n",
      "Fold 2, finetuning: 100%|██████████| 100/100 [01:02<00:00,  1.60it/s, acc=0.6695, val_loss=0.7491]\n",
      "Fold 3, finetuning: 100%|██████████| 100/100 [01:05<00:00,  1.53it/s, acc=0.7288, val_loss=0.7345]\n",
      "Fold 4, finetuning: 100%|██████████| 100/100 [01:01<00:00,  1.63it/s, acc=0.7458, val_loss=0.5930]\n",
      "Fold 5, finetuning: 100%|██████████| 100/100 [00:58<00:00,  1.70it/s, acc=0.7288, val_loss=0.5057]\n",
      "Fold 6, finetuning: 100%|██████████| 100/100 [00:48<00:00,  2.06it/s, acc=0.7881, val_loss=0.5163]\n",
      "Fold 7, finetuning: 100%|██████████| 100/100 [01:05<00:00,  1.53it/s, acc=0.8136, val_loss=0.5908]\n",
      "Fold 8, finetuning: 100%|██████████| 100/100 [00:58<00:00,  1.71it/s, acc=0.6186, val_loss=0.9985]\n",
      "Fold 9, finetuning: 100%|██████████| 100/100 [00:59<00:00,  1.69it/s, acc=0.6581, val_loss=0.8956]\n",
      "Fold 10, finetuning: 100%|██████████| 100/100 [00:57<00:00,  1.75it/s, acc=0.7009, val_loss=0.6488]"
     ]
    },
    {
     "name": "stdout",
     "output_type": "stream",
     "text": [
      "Best paras: 40 epoch, lr=0.010000, acc=0.7691\n"
     ]
    },
    {
     "name": "stderr",
     "output_type": "stream",
     "text": [
      "\n"
     ]
    },
    {
     "data": {
      "text/plain": [
       "(0.7690786123275757, 0.028385290876030922, (0.01, 40))"
      ]
     },
     "execution_count": 5,
     "metadata": {},
     "output_type": "execute_result"
    }
   ],
   "source": [
    "evaluator.grid_search(learning_model=graphcl, encoder=encoder,\n",
    "                      p_lr_lst=[0.01,0.001], p_epoch_lst=[20,40])"
   ]
  }
 ],
 "metadata": {
  "kernelspec": {
   "display_name": "Python 3",
   "language": "python",
   "name": "python3"
  },
  "language_info": {
   "codemirror_mode": {
    "name": "ipython",
    "version": 3
   },
   "file_extension": ".py",
   "mimetype": "text/x-python",
   "name": "python",
   "nbconvert_exporter": "python",
   "pygments_lexer": "ipython3",
   "version": "3.7.7"
  }
 },
 "nbformat": 4,
 "nbformat_minor": 4
}
