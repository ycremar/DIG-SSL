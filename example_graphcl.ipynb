{
 "cells": [
  {
   "cell_type": "markdown",
   "metadata": {},
   "source": [
    "## Example for GraphCL"
   ]
  },
  {
   "cell_type": "code",
   "execution_count": 1,
   "metadata": {},
   "outputs": [],
   "source": [
    "from sslgraph.utils import Encoder, EvalSemisupevised, get_dataset\n",
    "from sslgraph.contrastive.model import GraphCL"
   ]
  },
  {
   "cell_type": "markdown",
   "metadata": {},
   "source": [
    "### 1. Semi-supervised learning setting\n",
    "\n",
    "#### Load dataset\n",
    "\n",
    "In this example, we evaluate model on NCI1 dataset in the semi-supervised setting."
   ]
  },
  {
   "cell_type": "code",
   "execution_count": 2,
   "metadata": {},
   "outputs": [],
   "source": [
    "dataset, dataset_pretrain = get_dataset('NCI1', task=\"semisupervised\")\n",
    "feat_dim = dataset[0].x.shape[1]\n",
    "n_class = dataset.num_classes\n",
    "embed_dim = 128"
   ]
  },
  {
   "cell_type": "markdown",
   "metadata": {},
   "source": [
    "#### Define your encoder and contrastive model (GraphCL)\n",
    "\n",
    "For semi-supervised setting, GraphCL uses ResGCN. \n",
    "\n",
    "Available augmentation includes: dropN, maskN, permE, subgraph, random[2-4]."
   ]
  },
  {
   "cell_type": "code",
   "execution_count": 3,
   "metadata": {},
   "outputs": [],
   "source": [
    "encoder = Encoder(feat_dim, embed_dim, n_layers=3, gnn='resgcn')\n",
    "graphcl = GraphCL(embed_dim, aug_1='dropN', aug_2='dropN')"
   ]
  },
  {
   "cell_type": "markdown",
   "metadata": {},
   "source": [
    "#### Define evaluatior instance\n",
    "\n",
    "In this example, we use a label rate of 1%.\n",
    "\n",
    "To setup configurations (num of epochs, learning rates, etc. for pretraining and finetuning), run\n",
    "\n",
    "\n",
    "`evaluator.setup_train_config(batch_size = 128,\n",
    "    p_optim = 'Adam', p_lr = 0.0001, p_weight_decay = 0, p_epoch = 100,\n",
    "    f_optim = 'Adam', f_lr = 0.001, f_weight_decay = 0, f_epoch = 100)`\n"
   ]
  },
  {
   "cell_type": "code",
   "execution_count": 4,
   "metadata": {},
   "outputs": [],
   "source": [
    "evaluator = EvalSemisupevised(dataset, dataset_pretrain, 0.01, n_class)"
   ]
  },
  {
   "cell_type": "markdown",
   "metadata": {},
   "source": [
    "#### Perform evaluation\n",
    "\n",
    "You can also perform evaluation with grid search on pre-training epoch and\n",
    "learning rate by running\n",
    "``\n",
    "evaluator.grid_search(learning_model=graphcl, encoder=encoder, \n",
    "    p_lr_lst=[0.01,0.001], p_epoch_lst=[20,60,100])\n",
    "``"
   ]
  },
  {
   "cell_type": "code",
   "execution_count": 5,
   "metadata": {},
   "outputs": [
    {
     "name": "stderr",
     "output_type": "stream",
     "text": [
      "Pretraining: epoch 100: 100%|██████████| 100/100 [08:26<00:00,  5.07s/it, loss=0.703364]\n",
      "Fold 1, finetuning: 100%|██████████| 100/100 [00:10<00:00,  9.87it/s, acc=0.6131, val_loss=2.5440]\n",
      "Fold 2, finetuning: 100%|██████████| 100/100 [00:10<00:00,  9.86it/s, acc=0.6058, val_loss=12.4663]\n",
      "Fold 3, finetuning: 100%|██████████| 100/100 [00:13<00:00,  7.45it/s, acc=0.5888, val_loss=2.4567]\n",
      "Fold 4, finetuning: 100%|██████████| 100/100 [00:10<00:00,  9.39it/s, acc=0.5572, val_loss=10.1479]\n",
      "Fold 5, finetuning: 100%|██████████| 100/100 [00:10<00:00,  9.99it/s, acc=0.6058, val_loss=3.0563]\n",
      "Fold 6, finetuning: 100%|██████████| 100/100 [00:11<00:00,  8.85it/s, acc=0.6667, val_loss=2.4501]\n",
      "Fold 7, finetuning: 100%|██████████| 100/100 [00:10<00:00,  9.53it/s, acc=0.6399, val_loss=4.0525]\n",
      "Fold 8, finetuning: 100%|██████████| 100/100 [00:10<00:00,  9.85it/s, acc=0.6180, val_loss=3.0489]\n",
      "Fold 9, finetuning: 100%|██████████| 100/100 [00:11<00:00,  9.06it/s, acc=0.6350, val_loss=2.8754]\n",
      "Fold 10, finetuning: 100%|██████████| 100/100 [00:10<00:00,  9.56it/s, acc=0.6058, val_loss=3.6736]\n"
     ]
    },
    {
     "data": {
      "text/plain": [
       "(0.6260340213775635, 0.04064951092004776)"
      ]
     },
     "execution_count": 5,
     "metadata": {},
     "output_type": "execute_result"
    }
   ],
   "source": [
    "evaluator.evaluate(learning_model=graphcl, encoder=encoder)"
   ]
  },
  {
   "cell_type": "code",
   "execution_count": null,
   "metadata": {},
   "outputs": [],
   "source": []
  }
 ],
 "metadata": {
  "kernelspec": {
   "display_name": "Python 3",
   "language": "python",
   "name": "python3"
  },
  "language_info": {
   "codemirror_mode": {
    "name": "ipython",
    "version": 3
   },
   "file_extension": ".py",
   "mimetype": "text/x-python",
   "name": "python",
   "nbconvert_exporter": "python",
   "pygments_lexer": "ipython3",
   "version": "3.8.5"
  }
 },
 "nbformat": 4,
 "nbformat_minor": 4
}
