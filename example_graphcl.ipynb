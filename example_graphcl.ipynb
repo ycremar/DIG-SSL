{
 "cells": [
  {
   "cell_type": "markdown",
   "metadata": {},
   "source": [
    "## Example of GraphCL"
   ]
  },
  {
   "cell_type": "code",
   "execution_count": 1,
   "metadata": {},
   "outputs": [],
   "source": [
    "from sslgraph.utils import Encoder, EvalSemisupevised, EvalUnsupevised, get_dataset\n",
    "from sslgraph.contrastive.model import GraphCL"
   ]
  },
  {
   "cell_type": "markdown",
   "metadata": {},
   "source": [
    "### 1. Semi-supervised learning\n",
    "\n",
    "#### Load dataset\n",
    "\n",
    "In this example, we evaluate model on NCI1 dataset in the semi-supervised setting."
   ]
  },
  {
   "cell_type": "code",
   "execution_count": 2,
   "metadata": {},
   "outputs": [],
   "source": [
    "dataset, dataset_pretrain = get_dataset('NCI1', task='semisupervised')\n",
    "feat_dim = dataset[0].x.shape[1]\n",
    "n_class = dataset.num_classes\n",
    "embed_dim = 128"
   ]
  },
  {
   "cell_type": "markdown",
   "metadata": {},
   "source": [
    "#### Define your encoder and contrastive model (GraphCL)\n",
    "\n",
    "For semi-supervised setting, GraphCL uses ResGCN. \n",
    "\n",
    "Available augmentation includes: dropN, maskN, permE, subgraph, random[2-4]."
   ]
  },
  {
   "cell_type": "code",
   "execution_count": 13,
   "metadata": {},
   "outputs": [],
   "source": [
    "encoder = Encoder(feat_dim, embed_dim, n_layers=3, gnn='resgcn')\n",
    "graphcl = GraphCL(embed_dim, aug_1='subgraph', aug_2='subgraph')"
   ]
  },
  {
   "cell_type": "markdown",
   "metadata": {},
   "source": [
    "#### Define evaluatior instance\n",
    "\n",
    "In this example, we use a label rate of 1%.\n",
    "\n",
    "To setup configurations (num of epochs, learning rates, etc. for pretraining and finetuning), run\n",
    "\n",
    "\n",
    "`evaluator.setup_train_config(batch_size = 128,\n",
    "    p_optim = 'Adam', p_lr = 0.0001, p_weight_decay = 0, p_epoch = 100,\n",
    "    f_optim = 'Adam', f_lr = 0.001, f_weight_decay = 0, f_epoch = 100)`\n"
   ]
  },
  {
   "cell_type": "code",
   "execution_count": 14,
   "metadata": {},
   "outputs": [],
   "source": [
    "evaluator = EvalSemisupevised(dataset, dataset_pretrain, 0.01, n_class)"
   ]
  },
  {
   "cell_type": "markdown",
   "metadata": {},
   "source": [
    "#### Perform evaluation\n",
    "\n",
    "You can also perform evaluation with grid search on pre-training epoch and\n",
    "learning rate by running\n",
    "``\n",
    "evaluator.grid_search(learning_model=graphcl, encoder=encoder, \n",
    "    p_lr_lst=[0.1,0.01,0.001,0.0001], p_epoch_lst=[20,40,60,80,100])\n",
    "``"
   ]
  },
  {
   "cell_type": "code",
   "execution_count": 15,
   "metadata": {},
   "outputs": [
    {
     "name": "stderr",
     "output_type": "stream",
     "text": [
      "Pretraining: epoch 100: 100%|██████████| 100/100 [12:41<00:00,  7.61s/it, loss=2.683487]\n",
      "Fold 1, finetuning: 100%|██████████| 100/100 [00:12<00:00,  7.76it/s, acc=0.6229, val_loss=3.7151]\n",
      "Fold 2, finetuning: 100%|██████████| 100/100 [00:11<00:00,  8.84it/s, acc=0.6156, val_loss=9.0472]\n",
      "Fold 3, finetuning: 100%|██████████| 100/100 [00:10<00:00,  9.91it/s, acc=0.5547, val_loss=3.8888]\n",
      "Fold 4, finetuning: 100%|██████████| 100/100 [00:09<00:00, 10.01it/s, acc=0.6083, val_loss=5.6933]\n",
      "Fold 5, finetuning: 100%|██████████| 100/100 [00:10<00:00,  9.26it/s, acc=0.6058, val_loss=5.6814]\n",
      "Fold 6, finetuning: 100%|██████████| 100/100 [00:12<00:00,  7.77it/s, acc=0.6326, val_loss=2.8538]\n",
      "Fold 7, finetuning: 100%|██████████| 100/100 [00:10<00:00,  9.72it/s, acc=0.6083, val_loss=2.3298]\n",
      "Fold 8, finetuning: 100%|██████████| 100/100 [00:10<00:00,  9.59it/s, acc=0.5961, val_loss=2.7519]\n",
      "Fold 9, finetuning: 100%|██████████| 100/100 [00:10<00:00,  9.64it/s, acc=0.6715, val_loss=1.6425]\n",
      "Fold 10, finetuning: 100%|██████████| 100/100 [00:10<00:00,  9.62it/s, acc=0.6107, val_loss=3.0810]\n"
     ]
    },
    {
     "data": {
      "text/plain": [
       "(0.6255474090576172, 0.036114975810050964)"
      ]
     },
     "execution_count": 15,
     "metadata": {},
     "output_type": "execute_result"
    }
   ],
   "source": [
    "evaluator.evaluate(learning_model=graphcl, encoder=encoder)"
   ]
  },
  {
   "cell_type": "markdown",
   "metadata": {},
   "source": [
    "To reproduce results in the paper, you may want to perform grid search and run evaluation for 5 times and take the average."
   ]
  },
  {
   "cell_type": "markdown",
   "metadata": {},
   "source": [
    "#### Another example with a label rate of 10%."
   ]
  },
  {
   "cell_type": "code",
   "execution_count": 6,
   "metadata": {},
   "outputs": [
    {
     "name": "stderr",
     "output_type": "stream",
     "text": [
      "Pretraining: epoch 100: 100%|██████████| 100/100 [10:42<00:00,  6.42s/it, loss=2.271644]\n",
      "Fold 1, finetuning: 100%|██████████| 100/100 [00:14<00:00,  6.80it/s, acc=0.7883, val_loss=0.9015]\n",
      "Fold 2, finetuning: 100%|██████████| 100/100 [00:14<00:00,  6.79it/s, acc=0.7324, val_loss=1.5312]\n",
      "Fold 3, finetuning: 100%|██████████| 100/100 [00:14<00:00,  6.77it/s, acc=0.7494, val_loss=1.3493]\n",
      "Fold 4, finetuning: 100%|██████████| 100/100 [00:14<00:00,  6.78it/s, acc=0.7445, val_loss=1.2314]\n",
      "Fold 5, finetuning: 100%|██████████| 100/100 [00:16<00:00,  6.12it/s, acc=0.7421, val_loss=1.2051]\n",
      "Fold 6, finetuning: 100%|██████████| 100/100 [00:14<00:00,  6.78it/s, acc=0.7275, val_loss=1.2190]\n",
      "Fold 7, finetuning: 100%|██████████| 100/100 [00:16<00:00,  6.01it/s, acc=0.6861, val_loss=1.5297]\n",
      "Fold 8, finetuning: 100%|██████████| 100/100 [00:15<00:00,  6.46it/s, acc=0.7105, val_loss=1.3143]\n",
      "Fold 9, finetuning: 100%|██████████| 100/100 [00:16<00:00,  6.16it/s, acc=0.7640, val_loss=1.2336]\n",
      "Fold 10, finetuning: 100%|██████████| 100/100 [00:16<00:00,  5.90it/s, acc=0.7105, val_loss=1.4704]\n"
     ]
    },
    {
     "data": {
      "text/plain": [
       "(0.7440389394760132, 0.02773675136268139)"
      ]
     },
     "execution_count": 6,
     "metadata": {},
     "output_type": "execute_result"
    }
   ],
   "source": [
    "encoder = Encoder(feat_dim, embed_dim, n_layers=3, gnn='resgcn')\n",
    "graphcl = GraphCL(embed_dim, aug_1='random2', aug_2='random2')\n",
    "evaluator = EvalSemisupevised(dataset, dataset_pretrain, 0.1, n_class)\n",
    "evaluator.evaluate(learning_model=graphcl, encoder=encoder)"
   ]
  },
  {
   "cell_type": "markdown",
   "metadata": {},
   "source": [
    "### 2. Unsupervised representation learning\n",
    "\n",
    "#### Load dataset\n",
    "\n",
    "In this example, we evaluate model on MUTAG dataset in the unsupervised setting."
   ]
  },
  {
   "cell_type": "code",
   "execution_count": 7,
   "metadata": {},
   "outputs": [],
   "source": [
    "dataset = get_dataset('MUTAG', task='unsupervised')"
   ]
  },
  {
   "cell_type": "markdown",
   "metadata": {},
   "source": [
    "#### Define your encoder and contrastive model (GraphCL)\n",
    "\n",
    "For unsupervised setting, GraphCL uses GIN with jumping knowledge (with output_dim = hidden_dim * n_layers). \n",
    "\n",
    "Available augmentation includes: dropN, maskN, permE, subgraph, random[2-4]."
   ]
  },
  {
   "cell_type": "code",
   "execution_count": 8,
   "metadata": {},
   "outputs": [],
   "source": [
    "embed_dim = 128\n",
    "encoder = Encoder(feat_dim=dataset[0].x.shape[1], hidden_dim=embed_dim, n_layers=3, gnn='gin')\n",
    "graphcl = GraphCL(embed_dim*3, aug_1=None, aug_2='random2')"
   ]
  },
  {
   "cell_type": "markdown",
   "metadata": {},
   "source": [
    "#### Perform evaluation with grid search"
   ]
  },
  {
   "cell_type": "code",
   "execution_count": 9,
   "metadata": {},
   "outputs": [
    {
     "name": "stderr",
     "output_type": "stream",
     "text": [
      "Pretraining: epoch 5: 100%|██████████| 5/5 [00:00<00:00,  5.45it/s, loss=5.231080]\n",
      "Pretraining: epoch 10: 100%|██████████| 10/10 [00:01<00:00,  6.01it/s, loss=5.231108]\n",
      "Pretraining: epoch 15: 100%|██████████| 15/15 [00:02<00:00,  6.57it/s, loss=5.231109]\n",
      "Pretraining: epoch 20: 100%|██████████| 20/20 [00:03<00:00,  6.47it/s, loss=5.231109]\n"
     ]
    },
    {
     "name": "stdout",
     "output_type": "stream",
     "text": [
      "Best paras: 5 epoch, lr=0.010000, acc=0.8617\n"
     ]
    }
   ],
   "source": [
    "evaluator = EvalUnsupevised(dataset, dataset.num_classes)\n",
    "acc, sd, paras = evaluator.grid_search(learning_model=graphcl, encoder=encoder, \n",
    "                                       p_lr_lst=[0.01], p_epoch_lst=[5,10,15,20])"
   ]
  }
 ],
 "metadata": {
  "kernelspec": {
   "display_name": "Python 3",
   "language": "python",
   "name": "python3"
  },
  "language_info": {
   "codemirror_mode": {
    "name": "ipython",
    "version": 3
   },
   "file_extension": ".py",
   "mimetype": "text/x-python",
   "name": "python",
   "nbconvert_exporter": "python",
   "pygments_lexer": "ipython3",
   "version": "3.8.5"
  }
 },
 "nbformat": 4,
 "nbformat_minor": 4
}
