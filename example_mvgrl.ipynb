{
 "cells": [
  {
   "cell_type": "code",
   "execution_count": 1,
   "metadata": {},
   "outputs": [],
   "source": [
    "from sslgraph.utils import Encoder, EvalSemisupevised, EvalUnsupevised, get_dataset\n",
    "from sslgraph.contrastive.model import MVGRL\n",
    "\n",
    "import os\n",
    "os.environ['CUDA_VISIBLE_DEVICE']='1'"
   ]
  },
  {
   "cell_type": "code",
   "execution_count": 2,
   "metadata": {},
   "outputs": [],
   "source": [
    "dataset = get_dataset('PTC_MR', task='unsupervised')"
   ]
  },
  {
   "cell_type": "code",
   "execution_count": 3,
   "metadata": {},
   "outputs": [],
   "source": [
    "embed_dim = 512\n",
    "encoder_adj = Encoder(feat_dim=dataset[0].x.shape[1], hidden_dim=embed_dim, \n",
    "                      n_layers=4, gnn='gcn', node_level=True, act='prelu')\n",
    "encoder_diff = Encoder(feat_dim=dataset[0].x.shape[1], hidden_dim=embed_dim, \n",
    "                       n_layers=4, gnn='gcn', node_level=True, act='prelu')\n",
    "mvgrl = MVGRL(embed_dim*4, z_n_dim=embed_dim)"
   ]
  },
  {
   "cell_type": "code",
   "execution_count": 4,
   "metadata": {},
   "outputs": [
    {
     "name": "stderr",
     "output_type": "stream",
     "text": [
      "Pretraining: epoch 40: 100%|██████████| 40/40 [00:54<00:00,  1.36s/it, loss=-0.822772]\n"
     ]
    },
    {
     "data": {
      "text/plain": [
       "(0.5756302521008403, 0.06698368707063362)"
      ]
     },
     "execution_count": 4,
     "metadata": {},
     "output_type": "execute_result"
    }
   ],
   "source": [
    "import torch, numpy\n",
    "torch.manual_seed(123)\n",
    "evaluator = EvalUnsupevised(dataset, dataset.num_classes)\n",
    "evaluator.setup_train_config(batch_size=128, p_lr=0.001, p_epoch=40)\n",
    "evaluator.evaluate(learning_model=mvgrl, encoder=[encoder_adj, encoder_diff])"
   ]
  },
  {
   "cell_type": "code",
   "execution_count": null,
   "metadata": {},
   "outputs": [],
   "source": []
  }
 ],
 "metadata": {
  "kernelspec": {
   "display_name": "Python 3",
   "language": "python",
   "name": "python3"
  },
  "language_info": {
   "codemirror_mode": {
    "name": "ipython",
    "version": 3
   },
   "file_extension": ".py",
   "mimetype": "text/x-python",
   "name": "python",
   "nbconvert_exporter": "python",
   "pygments_lexer": "ipython3",
   "version": "3.8.5"
  }
 },
 "nbformat": 4,
 "nbformat_minor": 4
}
