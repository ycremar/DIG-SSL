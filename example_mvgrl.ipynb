{
 "cells": [
  {
   "cell_type": "markdown",
   "metadata": {},
   "source": [
    "## Example of MVGRL"
   ]
  },
  {
   "cell_type": "markdown",
   "metadata": {},
   "source": [
    "### 1. Graph level representation learning"
   ]
  },
  {
   "cell_type": "code",
   "execution_count": 1,
   "metadata": {},
   "outputs": [],
   "source": [
    "from sslgraph.utils import Encoder, EvalSemisupevised, EvalUnsupevised, get_dataset\n",
    "from sslgraph.contrastive.model import MVGRL\n",
    "\n",
    "import os\n",
    "os.environ['CUDA_VISIBLE_DEVICE']='1'"
   ]
  },
  {
   "cell_type": "markdown",
   "metadata": {},
   "source": [
    "#### Loading dataset"
   ]
  },
  {
   "cell_type": "code",
   "execution_count": 2,
   "metadata": {},
   "outputs": [],
   "source": [
    "dataset = get_dataset('MUTAG', task='unsupervised')"
   ]
  },
  {
   "cell_type": "markdown",
   "metadata": {},
   "source": [
    "#### Define encoders and contrastive model\n",
    "\n",
    "MVGRL includes two dedicated encoders for the two views (original graph and diffusion)."
   ]
  },
  {
   "cell_type": "code",
   "execution_count": 3,
   "metadata": {},
   "outputs": [],
   "source": [
    "embed_dim = 512\n",
    "encoder_adj = Encoder(feat_dim=dataset[0].x.shape[1], hidden_dim=embed_dim, \n",
    "                      n_layers=4, gnn='gcn', node_level=True, act='prelu')\n",
    "encoder_diff = Encoder(feat_dim=dataset[0].x.shape[1], hidden_dim=embed_dim, \n",
    "                       n_layers=4, gnn='gcn', node_level=True, act='prelu', edge_weight=True)\n",
    "mvgrl = MVGRL(embed_dim*4, z_n_dim=embed_dim, diffusion_type='ppr')"
   ]
  },
  {
   "cell_type": "code",
   "execution_count": 4,
   "metadata": {},
   "outputs": [
    {
     "name": "stderr",
     "output_type": "stream",
     "text": [
      "Pretraining: epoch 20: 100%|██████████| 20/20 [00:16<00:00,  1.22it/s, loss=-0.028078]\n"
     ]
    },
    {
     "data": {
      "text/plain": [
       "(0.8985380116959064, 0.09719308801480533)"
      ]
     },
     "execution_count": 4,
     "metadata": {},
     "output_type": "execute_result"
    }
   ],
   "source": [
    "evaluator = EvalUnsupevised(dataset, dataset.num_classes)\n",
    "evaluator.setup_train_config(batch_size=256, p_lr=0.001, p_epoch=20)\n",
    "evaluator.evaluate(learning_model=mvgrl, encoder=[encoder_adj, encoder_diff])"
   ]
  },
  {
   "cell_type": "code",
   "execution_count": null,
   "metadata": {},
   "outputs": [],
   "source": []
  }
 ],
 "metadata": {
  "kernelspec": {
   "display_name": "Python 3",
   "language": "python",
   "name": "python3"
  },
  "language_info": {
   "codemirror_mode": {
    "name": "ipython",
    "version": 3
   },
   "file_extension": ".py",
   "mimetype": "text/x-python",
   "name": "python",
   "nbconvert_exporter": "python",
   "pygments_lexer": "ipython3",
   "version": "3.8.5"
  }
 },
 "nbformat": 4,
 "nbformat_minor": 4
}
