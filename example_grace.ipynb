{
 "cells": [
  {
   "cell_type": "markdown",
   "metadata": {},
   "source": [
    "## Example of MVGRL"
   ]
  },
  {
   "cell_type": "markdown",
   "metadata": {},
   "source": [
    "### Node-level representation learning on CORA"
   ]
  },
  {
   "cell_type": "code",
   "execution_count": 1,
   "metadata": {},
   "outputs": [],
   "source": [
    "from sslgraph.utils import Encoder, get_node_dataset\n",
    "from sslgraph.utils.eval_node import EvalUnsupevised\n",
    "from sslgraph.contrastive.model import GRACE"
   ]
  },
  {
   "cell_type": "markdown",
   "metadata": {},
   "source": [
    "#### Loading dataset"
   ]
  },
  {
   "cell_type": "code",
   "execution_count": 2,
   "metadata": {},
   "outputs": [],
   "source": [
    "dataset, train_mask, val_mask, test_mask = get_node_dataset('cora')"
   ]
  },
  {
   "cell_type": "markdown",
   "metadata": {},
   "source": [
    "#### Define encoders and contrastive model\n",
    "\n",
    "You can refer to [https://github.com/CRIPAC-DIG/GRACE/blob/master/config.yaml](https://github.com/CRIPAC-DIG/GRACE/blob/master/config.yaml) for detailed training configs."
   ]
  },
  {
   "cell_type": "code",
   "execution_count": 3,
   "metadata": {},
   "outputs": [],
   "source": [
    "embed_dim = 128\n",
    "encoder = Encoder(feat_dim=dataset[0].x.shape[1], hidden_dim=embed_dim, \n",
    "                  n_layers=2, gnn='gcn', node_level=True, graph_level=False)\n",
    "grace = GRACE(dim=embed_dim, dropE_rate_1=0.2, dropE_rate_2=0.4, \n",
    "              maskN_rate_1=0.3, maskN_rate_2=0.4, tau=0.4, device=9)"
   ]
  },
  {
   "cell_type": "code",
   "execution_count": 4,
   "metadata": {},
   "outputs": [
    {
     "name": "stderr",
     "output_type": "stream",
     "text": [
      "Pretraining: epoch 1500: 100%|██████████| 1500/1500 [12:01<00:00,  2.08it/s, loss=7.482669]"
     ]
    },
    {
     "name": "stdout",
     "output_type": "stream",
     "text": [
      "Best epoch 1500: acc 0.8294 (+/- 0.0050).\n"
     ]
    },
    {
     "name": "stderr",
     "output_type": "stream",
     "text": [
      "\n"
     ]
    },
    {
     "data": {
      "text/plain": [
       "0.8294000625610352"
      ]
     },
     "execution_count": 4,
     "metadata": {},
     "output_type": "execute_result"
    }
   ],
   "source": [
    "evaluator = EvalUnsupevised(dataset, train_mask, val_mask, test_mask, device=9, log_interval=100)\n",
    "evaluator.setup_train_config(p_lr=0.0005, p_epoch=1500, p_weight_decay=0.00001, comp_embed_on='cpu')\n",
    "evaluator.evaluate(learning_model=grace, encoder=encoder)"
   ]
  }
 ],
 "metadata": {
  "kernelspec": {
   "display_name": "Python 3",
   "language": "python",
   "name": "python3"
  },
  "language_info": {
   "codemirror_mode": {
    "name": "ipython",
    "version": 3
   },
   "file_extension": ".py",
   "mimetype": "text/x-python",
   "name": "python",
   "nbconvert_exporter": "python",
   "pygments_lexer": "ipython3",
   "version": "3.7.7"
  }
 },
 "nbformat": 4,
 "nbformat_minor": 4
}
